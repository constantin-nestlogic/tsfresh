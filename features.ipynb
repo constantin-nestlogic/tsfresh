import pandas as pd
import numpy as np

pd.set_option('float_format', '{:}'.format)
f = open(r'C:\Users\user\Desktop\David\Learn\pay\_235252.csv')
timeseries = pd.read_csv(f,sep='\t', engine='python')

del timeseries[timeseries.columns[30]]
timeseries.columns = ['timestamp','balance','win','bet','T1','T2','T3','T4','T5','T6','T7','T8','T9','T10','T11','T12','T13','T14','T15','T16','T17','T18','T19','T20','T21','T22','T23','T24','T25','T26']
timeseries = timeseries.assign(uid = pd.Series([1]*len(timeseries.index)).values)

from tsfresh import extract_features
extracted_features = extract_features(timeseries, column_id="uid", column_sort="timestamp")
extracted_features

